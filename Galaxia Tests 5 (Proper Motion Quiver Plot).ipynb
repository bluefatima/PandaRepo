{
 "cells": [
  {
   "cell_type": "markdown",
   "metadata": {},
   "source": [
    "# Galaxia: Generating synthetic surveys\n",
    "\n",
    "## Parameters/outputs: \n",
    "\n",
    "For files named testLOS1arcsec_*, they are contained in the file $\\texttt{testLOS10arcsecparameters}$, which is also located in /u/casey_lam/scratch. Here we considered the same line of sight to the particular OGLE event. The idea was to consider a patch 10'' x 10''. However, when I ran it, there was an error because 0 stars were generated. I next ran it as 1'' x  1'', and only got one star. So I ended up running it as a 1' x 1' patch, and that gave me 38 stars.\n",
    "\n",
    "The relevant outputs are 3D position, proper motions, and brightness at several particular filters (probably R and K band.)\n",
    "\n",
    "## Proper motions (in direction of OGLE-2017-BLG-0019)\n",
    "\n",
    "Calculating l and b from RA and Dec for OGLE-2017-BLG-0019:\n",
    "\n",
    "RA (J2000.0):17:52:18.74\n",
    "\n",
    "Dec (J2000.0):-33:00:04.0\n",
    "\n",
    "Converting into degrees: \n",
    "\n",
    "17 hours 52 minutes 18.74 seconds =  (17 + (52/60) + (18.74/3600))*15  deg = 268.078083 deg\n",
    "\n",
    "-33 degrees 00 minutes 04 seconds = -(33 + (4/3600)) deg =  -33.00111 deg"
   ]
  },
  {
   "cell_type": "code",
   "execution_count": 3,
   "metadata": {
    "collapsed": true
   },
   "outputs": [],
   "source": [
    "import numpy as np\n",
    "import matplotlib.pyplot as plt\n",
    "from mpl_toolkits.mplot3d import Axes3D\n",
    "\n",
    "import astropy.units as u\n",
    "import astropy.coordinates as coord"
   ]
  },
  {
   "cell_type": "code",
   "execution_count": 4,
   "metadata": {},
   "outputs": [
    {
     "data": {
      "text/plain": [
       "<SkyCoord (Galactic): (l, b) in deg\n",
       "    [( 357.25017714, -3.32067241)]>"
      ]
     },
     "execution_count": 4,
     "metadata": {},
     "output_type": "execute_result"
    }
   ],
   "source": [
    "#convert from RA and Dec to l and b\n",
    "#b is latitude, l is longitude\n",
    "c = coord.SkyCoord(ra = [268.078083]*u.degree, dec = [-33.00111]*u.degree, frame='fk5')\n",
    "c.galactic"
   ]
  },
  {
   "cell_type": "code",
   "execution_count": 6,
   "metadata": {
    "collapsed": true
   },
   "outputs": [],
   "source": [
    "#load px, py, pz (cartesian heliocentric coordinates) from galaxia\n",
    "HCxOGLE = np.loadtxt(\"testLOS1arcsec_px\") #kpc\n",
    "HCyOGLE = np.loadtxt(\"testLOS1arcsec_py\") #kpc\n",
    "HCzOGLE = np.loadtxt(\"testLOS1arcsec_pz\") #kpc\n",
    "\n",
    "#load vx, vy, vz (cartesian heliocentric velocities) from galaxia\n",
    "HCxvelOGLE = np.loadtxt(\"testLOS1arcsec_vx\") #km/s\n",
    "HCyvelOGLE = np.loadtxt(\"testLOS1arcsec_vy\") #km/s\n",
    "HCzvelOGLE = np.loadtxt(\"testLOS1arcsec_vz\") #km/s\n",
    "\n",
    "#load soun velocities\n",
    "sun = np.loadtxt(\"testLOS1arcsec_center\")\n",
    "v_sun = sun[3:6]*u.km/u.s"
   ]
  },
  {
   "cell_type": "code",
   "execution_count": 10,
   "metadata": {},
   "outputs": [
    {
     "data": {
      "text/plain": [
       "<SkyCoord (Galactic): (l, b, distance) in (deg, deg, kpc)\n",
       "    [( 88.15810095, -61.9014214 ,  11.22324505),\n",
       "     ( 88.15830662, -61.90121879,   4.40434878),\n",
       "     ( 88.15794349, -61.90134635,   6.57643629),\n",
       "     ( 88.15795106, -61.90124703,   6.58397989),\n",
       "     ( 88.15784935, -61.90126633,   6.6904976 ),\n",
       "     ( 88.15843061, -61.90138368,   6.71305524),\n",
       "     ( 88.15812506, -61.90122474,   6.74592768),\n",
       "     ( 88.15807806, -61.90142377,   6.81632182),\n",
       "     ( 88.1583886 , -61.90127274,   7.17045066),\n",
       "     ( 88.15810659, -61.90118018,   7.60575242),\n",
       "     ( 88.15804094, -61.90130331,   7.68845031),\n",
       "     ( 88.15826851, -61.90130518,   7.72883673),\n",
       "     ( 88.15816076, -61.9013204 ,   7.90822154),\n",
       "     ( 88.15825322, -61.90130888,   7.9519869 ),\n",
       "     ( 88.15815563, -61.90133145,   8.00432578),\n",
       "     ( 88.15803673, -61.90131932,   8.05169051),\n",
       "     ( 88.15798744, -61.90118609,   8.26082369),\n",
       "     ( 88.1580221 , -61.90132479,   8.28970574),\n",
       "     ( 88.15797108, -61.9011992 ,   8.51099357),\n",
       "     ( 88.15842308, -61.90137591,   8.53182672),\n",
       "     ( 88.15823747, -61.90142064,   8.76077837),\n",
       "     ( 88.15820509, -61.90134778,   8.81491315),\n",
       "     ( 88.15808818, -61.90116168,   8.86803129),\n",
       "     ( 88.15828752, -61.9012895 ,   8.99558691),\n",
       "     ( 88.15791115, -61.90137951,   9.07407837),\n",
       "     ( 88.15802532, -61.90120723,   9.16630935),\n",
       "     ( 88.15811239, -61.90133648,   9.19404059),\n",
       "     ( 88.15820082, -61.90128121,   9.25804463),\n",
       "     ( 88.15809688, -61.90139459,   9.32296374),\n",
       "     ( 88.15808968, -61.90117578,   9.59005479),\n",
       "     ( 88.15811386, -61.90131766,   9.61895418),\n",
       "     ( 88.15799604, -61.90139439,   9.71163409),\n",
       "     ( 88.15786002, -61.9013939 ,   9.75589898),\n",
       "     ( 88.15812495, -61.90121707,   9.78208811),\n",
       "     ( 88.15794199, -61.90127092,   9.78782288),\n",
       "     ( 88.1579631 , -61.90125313,   9.80490171),\n",
       "     ( 88.15790061, -61.90134423,   9.89737577),\n",
       "     ( 88.15837118, -61.90134782,  10.35910251)]>"
      ]
     },
     "execution_count": 10,
     "metadata": {},
     "output_type": "execute_result"
    }
   ],
   "source": [
    "HCcoords = coord.SkyCoord(x=HCxOGLE, y=HCyOGLE, z=HCzOGLE, unit='kpc', representation='cartesian')\n",
    "HCcoords.galactic"
   ]
  },
  {
   "cell_type": "code",
   "execution_count": 11,
   "metadata": {},
   "outputs": [
    {
     "data": {
      "image/png": "[encoded data removed]",
      "text/plain": [
       "<matplotlib.figure.Figure at 0x7f5d36f4c320>"
      ]
     },
     "metadata": {},
     "output_type": "display_data"
    }
   ],
   "source": [
    "plt.plot(HCcoords.galactic.b, HCcoords.galactic.l, '.')\n",
    "plt.show()"
   ]
  },
  {
   "cell_type": "code",
   "execution_count": 24,
   "metadata": {
    "collapsed": true
   },
   "outputs": [],
   "source": [
    "#comes directly from http://gala-astro.readthedocs.io/en/latest/coordinates/\n",
    "\n",
    "xyz = [[  6.47945349,-34.4772621 ], [-17.77019357,  31.11681441],[-25.32101661,   3.54273331]] * u.kpc\n",
    "vxyz = [[-184.32952533,   76.94467146], [ -19.19375771,  -98.15603007],[  22.49696323,   26.35110153]] * u.km/u.s\n",
    "v_sun = coord.CartesianDifferential([10, 250., 7] * u.km/u.s)\n",
    "gc = coord.Galactocentric(x=xyz[0], y=xyz[1], z=xyz[2],v_x=vxyz[0], v_y=vxyz[1], v_z=vxyz[2],galcen_distance=8*u.kpc,galcen_v_sun=v_sun)\n"
   ]
  },
  {
   "cell_type": "code",
   "execution_count": 26,
   "metadata": {},
   "outputs": [
    {
     "ename": "ValueError",
     "evalue": "For differential object '<CartesianDifferential (d_x, d_y, d_z) in km9 / s9\n    [(-122.31252289, -338.72213745,   46.90854645),\n     ( -83.30236816,   82.31020355,   93.09341431),\n     (   8.14424229,  -67.1520462 ,  -16.2996769 ),\n     ( 278.84332275, -151.00671387,  -26.38014412),\n     (  76.53701782, -253.12597656,  -44.90016174),\n     (  50.00233459,   10.43029881,   52.00296783),\n     (  11.00264263, -318.93737793,  102.09288788),\n     ( -49.33816528,  -22.50930023,  -34.09093857),\n     ( 129.44998169, -186.76148987,  -69.8518219 ),\n     (-113.30675507, -349.54476929,  -81.94290924),\n     ( -77.93921661, -191.98399353,   16.10504532),\n     ( -68.40061188, -368.27539062,  -80.71481323),\n     ( -34.13563538, -171.51763916,  140.82226562),\n     (  19.54314613, -246.67497253,  165.68800354),\n     (  -6.63549757, -122.05953979,   -1.00854611),\n     (  18.3990345 , -201.19708252,   -7.2511754 ),\n     (  38.58768463, -233.54554749,  -41.88350677),\n     ( 130.77833557, -167.1582489 ,  187.03181458),\n     ( -51.12487411, -251.2689209 ,  -56.74548721),\n     ( -69.86824799, -128.6317749 ,  -55.86848068),\n     (-134.18066406, -396.10494995,  -74.1415329 ),\n     ( -43.83417892, -219.47103882, -173.72262573),\n     (-178.11027527, -295.53213501, -164.28045654),\n     (  73.78585052, -260.53271484,  -50.08070755),\n     (-201.02905273, -279.53018188,  -56.25963974),\n     (  17.88349724, -259.3531189 , -207.01045227),\n     (-165.48735046,  -53.29598999,   67.28723907),\n     (  23.93867111, -188.36317444, -202.75379944),\n     (  67.42604065, -501.48825073,  -49.86851883),\n     ( -33.08475494, -213.98857117,  -66.39907074),\n     (-151.85180664, -313.02844238, -162.84928894),\n     ( -19.78683662, -515.65423584, -104.47255707),\n     ( -76.87848663, -461.10491943,   76.64383698),\n     (  76.11129761, -323.46063232,  -71.52612305),\n     (   1.22940111, -372.40313721,  -86.5480957 ),\n     (-209.67965698, -407.53283691,  143.26940918),\n     (  11.36571789, -436.93762207,    4.33625031),\n     (  -6.24751806, -439.06192017,  -78.93412018)]>', expected unit key = 's9' but received key = 's'",
     "output_type": "error",
     "traceback": [
      "\u001b[0;31m-----------------------------------------------------------------------\u001b[0m",
      "\u001b[0;31mValueError\u001b[0m                            Traceback (most recent call last)",
      "\u001b[0;32m<ipython-input-26-663e5b75219a>\u001b[0m in \u001b[0;36m<module>\u001b[0;34m()\u001b[0m\n\u001b[1;32m      9\u001b[0m \u001b[0msunvel\u001b[0m \u001b[0;34m=\u001b[0m \u001b[0mcoord\u001b[0m\u001b[0;34m.\u001b[0m\u001b[0mCartesianDifferential\u001b[0m\u001b[0;34m(\u001b[0m\u001b[0msun\u001b[0m\u001b[0;34m[\u001b[0m\u001b[0;36m3\u001b[0m\u001b[0;34m:\u001b[0m\u001b[0;36m6\u001b[0m\u001b[0;34m]\u001b[0m\u001b[0;34m)\u001b[0m \u001b[0;34m*\u001b[0m \u001b[0mu\u001b[0m\u001b[0;34m.\u001b[0m\u001b[0mkm\u001b[0m\u001b[0;34m/\u001b[0m\u001b[0mu\u001b[0m\u001b[0;34m.\u001b[0m\u001b[0ms\u001b[0m\u001b[0;34m\u001b[0m\u001b[0m\n\u001b[1;32m     10\u001b[0m \u001b[0;34m\u001b[0m\u001b[0m\n\u001b[0;32m---> 11\u001b[0;31m \u001b[0mgc\u001b[0m \u001b[0;34m=\u001b[0m \u001b[0mcoord\u001b[0m\u001b[0;34m.\u001b[0m\u001b[0mGalactocentric\u001b[0m\u001b[0;34m(\u001b[0m\u001b[0mx\u001b[0m\u001b[0;34m=\u001b[0m\u001b[0mHCxOGLE\u001b[0m\u001b[0;34m,\u001b[0m \u001b[0my\u001b[0m\u001b[0;34m=\u001b[0m\u001b[0mHCyOGLE\u001b[0m\u001b[0;34m,\u001b[0m \u001b[0mz\u001b[0m\u001b[0;34m=\u001b[0m\u001b[0mHCzOGLE\u001b[0m\u001b[0;34m,\u001b[0m \u001b[0mv_x\u001b[0m\u001b[0;34m=\u001b[0m\u001b[0mHCxvelOGLE\u001b[0m\u001b[0;34m,\u001b[0m \u001b[0mv_y\u001b[0m\u001b[0;34m=\u001b[0m\u001b[0mHCyvelOGLE\u001b[0m\u001b[0;34m,\u001b[0m \u001b[0mv_z\u001b[0m\u001b[0;34m=\u001b[0m\u001b[0mHCzvelOGLE\u001b[0m\u001b[0;34m,\u001b[0m \u001b[0mgalcen_distance\u001b[0m \u001b[0;34m=\u001b[0m \u001b[0msun\u001b[0m\u001b[0;34m[\u001b[0m\u001b[0;36m0\u001b[0m\u001b[0;34m]\u001b[0m \u001b[0;34m*\u001b[0m \u001b[0mu\u001b[0m\u001b[0;34m.\u001b[0m\u001b[0mkpc\u001b[0m\u001b[0;34m,\u001b[0m \u001b[0mgalcen_v_sun\u001b[0m \u001b[0;34m=\u001b[0m \u001b[0msunvel\u001b[0m\u001b[0;34m)\u001b[0m\u001b[0;34m\u001b[0m\u001b[0m\n\u001b[0m\u001b[1;32m     12\u001b[0m \u001b[0micrs\u001b[0m \u001b[0;34m=\u001b[0m \u001b[0mgc\u001b[0m\u001b[0;34m.\u001b[0m\u001b[0mtransform_to\u001b[0m\u001b[0;34m(\u001b[0m\u001b[0mcoord\u001b[0m\u001b[0;34m.\u001b[0m\u001b[0mICRS\u001b[0m\u001b[0;34m)\u001b[0m\u001b[0;34m\u001b[0m\u001b[0m\n\u001b[1;32m     13\u001b[0m \u001b[0micrs\u001b[0m\u001b[0;34m.\u001b[0m\u001b[0mpm_ra_cosdec\u001b[0m\u001b[0;34m\u001b[0m\u001b[0m\n",
      "\u001b[0;32m/home/casey/anaconda3/lib/python3.6/site-packages/astropy/coordinates/builtin_frames/galactocentric.py\u001b[0m in \u001b[0;36m__init__\u001b[0;34m(self, *args, **kwargs)\u001b[0m\n\u001b[1;32m    209\u001b[0m             \u001b[0mkwargs\u001b[0m\u001b[0;34m[\u001b[0m\u001b[0;34m'galcen_coord'\u001b[0m\u001b[0;34m]\u001b[0m \u001b[0;34m=\u001b[0m \u001b[0mICRS\u001b[0m\u001b[0;34m(\u001b[0m\u001b[0;34m**\u001b[0m\u001b[0mgalcen_kw\u001b[0m\u001b[0;34m)\u001b[0m\u001b[0;34m\u001b[0m\u001b[0m\n\u001b[1;32m    210\u001b[0m \u001b[0;34m\u001b[0m\u001b[0m\n\u001b[0;32m--> 211\u001b[0;31m         \u001b[0msuper\u001b[0m\u001b[0;34m(\u001b[0m\u001b[0mGalactocentric\u001b[0m\u001b[0;34m,\u001b[0m \u001b[0mself\u001b[0m\u001b[0;34m)\u001b[0m\u001b[0;34m.\u001b[0m\u001b[0m__init__\u001b[0m\u001b[0;34m(\u001b[0m\u001b[0;34m*\u001b[0m\u001b[0margs\u001b[0m\u001b[0;34m,\u001b[0m \u001b[0;34m**\u001b[0m\u001b[0mkwargs\u001b[0m\u001b[0;34m)\u001b[0m\u001b[0;34m\u001b[0m\u001b[0m\n\u001b[0m\u001b[1;32m    212\u001b[0m \u001b[0;34m\u001b[0m\u001b[0m\n\u001b[1;32m    213\u001b[0m     \u001b[0;34m@\u001b[0m\u001b[0mproperty\u001b[0m\u001b[0;34m\u001b[0m\u001b[0m\n",
      "\u001b[0;32m/home/casey/anaconda3/lib/python3.6/site-packages/astropy/coordinates/baseframe.py\u001b[0m in \u001b[0;36m__init__\u001b[0;34m(self, *args, **kwargs)\u001b[0m\n\u001b[1;32m    380\u001b[0m         \u001b[0;32mif\u001b[0m \u001b[0mdifferential_data\u001b[0m\u001b[0;34m:\u001b[0m\u001b[0;34m\u001b[0m\u001b[0m\n\u001b[1;32m    381\u001b[0m             self._data = representation_data.with_differentials(\n\u001b[0;32m--> 382\u001b[0;31m                 {'s': differential_data})\n\u001b[0m\u001b[1;32m    383\u001b[0m         \u001b[0;32melse\u001b[0m\u001b[0;34m:\u001b[0m\u001b[0;34m\u001b[0m\u001b[0m\n\u001b[1;32m    384\u001b[0m             \u001b[0mself\u001b[0m\u001b[0;34m.\u001b[0m\u001b[0m_data\u001b[0m \u001b[0;34m=\u001b[0m \u001b[0mrepresentation_data\u001b[0m  \u001b[0;31m# possibly None.\u001b[0m\u001b[0;34m\u001b[0m\u001b[0m\n",
      "\u001b[0;32m/home/casey/anaconda3/lib/python3.6/site-packages/astropy/coordinates/representation.py\u001b[0m in \u001b[0;36mwith_differentials\u001b[0;34m(self, differentials)\u001b[0m\n\u001b[1;32m    713\u001b[0m                                  copy=False)\n\u001b[1;32m    714\u001b[0m         new_rep._differentials.update(\n\u001b[0;32m--> 715\u001b[0;31m             new_rep._validate_differentials(differentials))\n\u001b[0m\u001b[1;32m    716\u001b[0m \u001b[0;34m\u001b[0m\u001b[0m\n\u001b[1;32m    717\u001b[0m         \u001b[0;32mreturn\u001b[0m \u001b[0mnew_rep\u001b[0m\u001b[0;34m\u001b[0m\u001b[0m\n",
      "\u001b[0;32m/home/casey/anaconda3/lib/python3.6/site-packages/astropy/coordinates/representation.py\u001b[0m in \u001b[0;36m_validate_differentials\u001b[0;34m(self, differentials)\u001b[0m\n\u001b[1;32m    529\u001b[0m                     raise ValueError(\"For differential object '{0}', expected \"\n\u001b[1;32m    530\u001b[0m                                      \u001b[0;34m\"unit key = '{1}' but received key = '{2}'\"\u001b[0m\u001b[0;34m\u001b[0m\u001b[0m\n\u001b[0;32m--> 531\u001b[0;31m                                      .format(repr(diff), expected_key, key))\n\u001b[0m\u001b[1;32m    532\u001b[0m \u001b[0;34m\u001b[0m\u001b[0m\n\u001b[1;32m    533\u001b[0m             \u001b[0;31m# For now, we are very rigid: differentials must have the same shape\u001b[0m\u001b[0;34m\u001b[0m\u001b[0;34m\u001b[0m\u001b[0m\n",
      "\u001b[0;31mValueError\u001b[0m: For differential object '<CartesianDifferential (d_x, d_y, d_z) in km9 / s9\n    [(-122.31252289, -338.72213745,   46.90854645),\n     ( -83.30236816,   82.31020355,   93.09341431),\n     (   8.14424229,  -67.1520462 ,  -16.2996769 ),\n     ( 278.84332275, -151.00671387,  -26.38014412),\n     (  76.53701782, -253.12597656,  -44.90016174),\n     (  50.00233459,   10.43029881,   52.00296783),\n     (  11.00264263, -318.93737793,  102.09288788),\n     ( -49.33816528,  -22.50930023,  -34.09093857),\n     ( 129.44998169, -186.76148987,  -69.8518219 ),\n     (-113.30675507, -349.54476929,  -81.94290924),\n     ( -77.93921661, -191.98399353,   16.10504532),\n     ( -68.40061188, -368.27539062,  -80.71481323),\n     ( -34.13563538, -171.51763916,  140.82226562),\n     (  19.54314613, -246.67497253,  165.68800354),\n     (  -6.63549757, -122.05953979,   -1.00854611),\n     (  18.3990345 , -201.19708252,   -7.2511754 ),\n     (  38.58768463, -233.54554749,  -41.88350677),\n     ( 130.77833557, -167.1582489 ,  187.03181458),\n     ( -51.12487411, -251.2689209 ,  -56.74548721),\n     ( -69.86824799, -128.6317749 ,  -55.86848068),\n     (-134.18066406, -396.10494995,  -74.1415329 ),\n     ( -43.83417892, -219.47103882, -173.72262573),\n     (-178.11027527, -295.53213501, -164.28045654),\n     (  73.78585052, -260.53271484,  -50.08070755),\n     (-201.02905273, -279.53018188,  -56.25963974),\n     (  17.88349724, -259.3531189 , -207.01045227),\n     (-165.48735046,  -53.29598999,   67.28723907),\n     (  23.93867111, -188.36317444, -202.75379944),\n     (  67.42604065, -501.48825073,  -49.86851883),\n     ( -33.08475494, -213.98857117,  -66.39907074),\n     (-151.85180664, -313.02844238, -162.84928894),\n     ( -19.78683662, -515.65423584, -104.47255707),\n     ( -76.87848663, -461.10491943,   76.64383698),\n     (  76.11129761, -323.46063232,  -71.52612305),\n     (   1.22940111, -372.40313721,  -86.5480957 ),\n     (-209.67965698, -407.53283691,  143.26940918),\n     (  11.36571789, -436.93762207,    4.33625031),\n     (  -6.24751806, -439.06192017,  -78.93412018)]>', expected unit key = 's9' but received key = 's'"
     ]
    }
   ],
   "source": [
    "HCxOGLE = HCxOGLE * u.kpc\n",
    "HCyOGLE = HCyOGLE * u.kpc\n",
    "HCzOGLE = HCzOGLE * u.kpc\n",
    "\n",
    "HCxvelOGLE = HCxvelOGLE * u.km/u.s\n",
    "HCyvelOGLE = HCyvelOGLE * u.km/u.s\n",
    "HCzvelOGLE = HCzvelOGLE * u.km/u.s\n",
    "\n",
    "sunvel = coord.CartesianDifferential(sun[3:6]) * u.km/u.s\n",
    "\n",
    "gc = coord.Galactocentric(x=HCxOGLE, y=HCyOGLE, z=HCzOGLE, v_x=HCxvelOGLE, v_y=HCyvelOGLE, v_z=HCzvelOGLE, galcen_distance = sun[0] * u.kpc, galcen_v_sun = sunvel)\n",
    "icrs = gc.transform_to(coord.ICRS)\n",
    "icrs.pm_ra_cosdec"
   ]
  }
 ],
 "metadata": {
  "kernelspec": {
   "display_name": "Python 3",
   "language": "python",
   "name": "python3"
  },
  "language_info": {
   "codemirror_mode": {
    "name": "ipython",
    "version": 3
   },
   "file_extension": ".py",
   "mimetype": "text/x-python",
   "name": "python",
   "nbconvert_exporter": "python",
   "pygments_lexer": "ipython3",
   "version": "3.6.3"
  }
 },
 "nbformat": 4,
 "nbformat_minor": 2
}
