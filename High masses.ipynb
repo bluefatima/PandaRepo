{
 "cells": [
  {
   "cell_type": "code",
   "execution_count": 1,
   "metadata": {
    "collapsed": true
   },
   "outputs": [],
   "source": [
    "import numpy as np\n",
    "import matplotlib.pyplot as plt\n",
    "import random\n",
    "from scipy.optimize import curve_fit\n",
    "from collections import Counter"
   ]
  },
  {
   "cell_type": "code",
   "execution_count": 10,
   "metadata": {},
   "outputs": [
    {
     "name": "stdout",
     "output_type": "stream",
     "text": [
      "1000004.11178\n"
     ]
    },
    {
     "data": {
      "image/png": "[encoded data removed]",
      "text/plain": [
       "<matplotlib.figure.Figure at 0x116df4128>"
      ]
     },
     "metadata": {},
     "output_type": "display_data"
    }
   ],
   "source": [
    "#High_Mass_Casey IMF. cluster mass of 10**6 M_sol\n",
    "mass_array = np.loadtxt(\"highmasses.txt\", delimiter = \" \" )\n",
    "\n",
    "clustermass = np.sum(mass_array)\n",
    "print(clustermass)\n",
    "\n",
    "x = np.logspace(1,2.1)\n",
    "plt.hist(mass_array, bins = np.logspace(0.5,2.5,50))\n",
    "plt.plot(x,1.0735*10**6*x**-1.3)\n",
    "plt.xscale('log')\n",
    "plt.yscale('log')\n",
    "plt.show()"
   ]
  },
  {
   "cell_type": "code",
   "execution_count": 3,
   "metadata": {
    "collapsed": true
   },
   "outputs": [],
   "source": [
    "#Given the ZAMS mass, gives the remnant mass and type of compact object\n",
    "#Slightly different version of getRemnantMass\n",
    "#Assumptions: all neutron stars are the same mass\n",
    "#Assumptions: WD progenitor masses go from 1 to 9 solar masses\n",
    "def getRemMass(MZAMS,f_ej):\n",
    "    \"\"\"\n",
    "    type BH = Black Hole\n",
    "    type NS = Neutron Star\n",
    "    type WD = White Dwarf\n",
    "    type small = out of lower range\n",
    "    type big = out of upper range\n",
    "    \"\"\"\n",
    "    n = random.randint(1,101)\n",
    "    if (MZAMS >= 0.5) and (MZAMS < 9):\n",
    "        typecode = 'WD'\n",
    "        return 0.358 + 0.123 * MZAMS,typecode\n",
    "    if (MZAMS >= 9) and (MZAMS <= 15):\n",
    "        typeCode = 'NS'\n",
    "        return 1.6,typeCode\n",
    "    elif (MZAMS > 15) and (MZAMS <= 17.8):\n",
    "        if n > 68:\n",
    "            typeCode = 'BH'\n",
    "            return BHMassExtrapolate(MZAMS,f_ej),typeCode\n",
    "        else:\n",
    "            typeCode = 'NS'\n",
    "            return 1.6,typeCode\n",
    "    elif (MZAMS > 17.8) and (MZAMS <= 18.5):\n",
    "        if n > 83:\n",
    "            typeCode = 'BH'\n",
    "            return BHMassExtrapolate(MZAMS,f_ej),typeCode\n",
    "        else:\n",
    "            typeCode = 'NS'\n",
    "            return 1.6,typeCode\n",
    "    elif (MZAMS > 18.5) and (MZAMS <= 21.7):\n",
    "        if n > 50:\n",
    "            typeCode = 'BH'\n",
    "            return BHMassExtrapolate(MZAMS,f_ej),typeCode\n",
    "        else:\n",
    "            typeCode = 'NS'\n",
    "            return 1.6,typeCode\n",
    "    elif (MZAMS > 21.7) and (MZAMS <= 25.2):\n",
    "        typeCode = 'BH'\n",
    "        return BHMassExtrapolate(MZAMS,f_ej),typeCode\n",
    "    elif (MZAMS > 25.2) and (MZAMS <= 27.5):\n",
    "        if n > 65:\n",
    "            typeCode = 'BH'\n",
    "            return BHMassExtrapolate(MZAMS,f_ej),typeCode\n",
    "        else:\n",
    "            typeCode = 'NS'\n",
    "            return 1.6,typeCode\n",
    "    elif (MZAMS > 27.5) and (MZAMS <= 60):\n",
    "        typeCode = 'BH'\n",
    "        if MZAMS > 42:\n",
    "            return BHMassExtrapolate(MZAMS,f_ej),typeCode\n",
    "        else:\n",
    "            return BHMassCoreHigh(MZAMS),typeCode\n",
    "    elif (MZAMS > 60) and (MZAMS <= 120):\n",
    "        if n > 40:\n",
    "            typeCode = 'BH'\n",
    "            return BHMassCoreHigh(MZAMS),typeCode\n",
    "        else:\n",
    "            typeCode = 'NS'\n",
    "            return 1.6,typeCode\n",
    "    elif MZAMS < 0.5:\n",
    "        typeCode = 'small'\n",
    "        return 0, typeCode\n",
    "    else:\n",
    "        typeCode = 'big'\n",
    "        return 0, typeCode "
   ]
  },
  {
   "cell_type": "code",
   "execution_count": 7,
   "metadata": {},
   "outputs": [
    {
     "name": "stdout",
     "output_type": "stream",
     "text": [
      "Counter({'NS': 30577, 'BH': 15341})\n"
     ]
    },
    {
     "data": {
      "image/png": "[encoded data removed]",
      "text/plain": [
       "<matplotlib.figure.Figure at 0x112ca9f98>"
      ]
     },
     "metadata": {},
     "output_type": "display_data"
    }
   ],
   "source": [
    "#Equation (1)\n",
    "def BHMassCore(MZAMS):\n",
    "    return -1.98 + 0.411*MZAMS\n",
    "\n",
    "#Equation (2)\n",
    "def BHMassAll(MZAMS):\n",
    "    return 16.1 - 0.194 * (MZAMS - 23.9) - 0.041 * (MZAMS - 23.9)**2 + 0.00307 * (MZAMS - 23.9)**3\n",
    "\n",
    "#Equation (3)\n",
    "def BHMassCoreHigh(MZAMS):\n",
    "    return 5.796 + 1.05 * 10**9 * MZAMS**-4.94\n",
    "\n",
    "#Equation (4)\n",
    "def BHMassExtrapolate(MZAMS, f_ej):\n",
    "    return f_ej * BHMassCore(MZAMS) + (1 - f_ej) * BHMassAll(MZAMS)\n",
    "\n",
    "#Branch I, this is defined different from the paper\n",
    "BHmassRange1 = np.linspace(15,42.22)\n",
    "\n",
    "#Branch II, this is defined different from the paper\n",
    "BHmassRange2 = np.linspace(42.22,120)\n",
    "\n",
    "typeArray = massArray = []\n",
    "\n",
    "#number of progenitor stars\n",
    "N = len(mass_array)\n",
    "\n",
    "for i in range(N):\n",
    "    remnantMass, typeCode = getRemMass(mass_array[i],0.9)\n",
    "    massArray = np.append(massArray, remnantMass)\n",
    "    typeArray = np.append(typeArray, typeCode)\n",
    "    \n",
    "#counts the different types    \n",
    "print(Counter(typeArray))    \n",
    "\n",
    "BHarray = [i for i in massArray if i > 3]    \n",
    "NSarray = [i for i in massArray if i <= 3 and i > 1.44]\n",
    "WDarray = [i for i in massArray if i > 0 and i <= 1.44]\n",
    "NAarray = [i for i in massArray if i == 0]\n",
    "\n",
    "#plot the mass distribution\n",
    "plt.hist(massArray, bins = 10*3)\n",
    "plt.axvline(x=3)\n",
    "plt.axvline(x=1.44)\n",
    "plt.xlabel(\"Mass (solar)\")\n",
    "plt.ylabel(\"Number\")\n",
    "plt.title(\"Final Object Mass Distribution\")\n",
    "#plt.xscale('log')\n",
    "plt.yscale('log')\n",
    "plt.show()"
   ]
  },
  {
   "cell_type": "code",
   "execution_count": 6,
   "metadata": {},
   "outputs": [
    {
     "data": {
      "image/png": "[encoded data removed]",
      "text/plain": [
       "<matplotlib.figure.Figure at 0x112c93fd0>"
      ]
     },
     "metadata": {},
     "output_type": "display_data"
    }
   ],
   "source": [
    "plt.hist(BHarray)\n",
    "plt.xlabel(\"Mass (solar)\")\n",
    "plt.ylabel(\"Number\")\n",
    "plt.title(\"Black Hole Mass Distribution\")\n",
    "plt.show()"
   ]
  },
  {
   "cell_type": "code",
   "execution_count": 8,
   "metadata": {},
   "outputs": [
    {
     "data": {
      "text/plain": [
       "array([ 1.6,  1.6,  1.6, ...,  1.6,  1.6,  1.6])"
      ]
     },
     "execution_count": 8,
     "metadata": {},
     "output_type": "execute_result"
    }
   ],
   "source": [
    "np.sort(NSarray)"
   ]
  },
  {
   "cell_type": "code",
   "execution_count": 9,
   "metadata": {},
   "outputs": [
    {
     "data": {
      "text/plain": [
       "array([  5.00832185,   5.00875038,   5.00920837, ...,  87.16002824,\n",
       "        87.17162862,  87.17461826])"
      ]
     },
     "execution_count": 9,
     "metadata": {},
     "output_type": "execute_result"
    }
   ],
   "source": [
    "np.sort(BHarray)"
   ]
  },
  {
   "cell_type": "code",
   "execution_count": null,
   "metadata": {
    "collapsed": true
   },
   "outputs": [],
   "source": []
  }
 ],
 "metadata": {
  "kernelspec": {
   "display_name": "Python 3",
   "language": "python",
   "name": "python3"
  },
  "language_info": {
   "codemirror_mode": {
    "name": "ipython",
    "version": 3
   },
   "file_extension": ".py",
   "mimetype": "text/x-python",
   "name": "python",
   "nbconvert_exporter": "python",
   "pygments_lexer": "ipython3",
   "version": "3.5.3"
  }
 },
 "nbformat": 4,
 "nbformat_minor": 2
}
