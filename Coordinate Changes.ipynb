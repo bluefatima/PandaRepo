{
 "cells": [
  {
   "cell_type": "code",
   "execution_count": 1,
   "metadata": {
    "collapsed": true
   },
   "outputs": [],
   "source": [
    "import numpy as np\n",
    "import matplotlib.pyplot as plt\n",
    "from mpl_toolkits.mplot3d import Axes3D\n",
    "\n",
    "import astropy.units as u\n",
    "import astropy.coordinates as coord"
   ]
  },
  {
   "cell_type": "code",
   "execution_count": 2,
   "metadata": {},
   "outputs": [
    {
     "data": {
      "text/plain": [
       "<SkyCoord (Galactic): (l, b) in deg\n",
       "    [( 357.2501853, -3.32067552)]>"
      ]
     },
     "execution_count": 2,
     "metadata": {},
     "output_type": "execute_result"
    }
   ],
   "source": [
    "#convert from RA and Dec to l and b\n",
    "#b is latitude, l is longitude\n",
    "c = coord.SkyCoord(ra = [268.078083]*u.degree, dec = [-33.00111]*u.degree, frame='icrs')\n",
    "c.galactic"
   ]
  },
  {
   "cell_type": "code",
   "execution_count": 6,
   "metadata": {},
   "outputs": [
    {
     "name": "stdout",
     "output_type": "stream",
     "text": [
      "-3.9194662262\n",
      "68.4084768194\n",
      "357.591523181\n"
     ]
    }
   ],
   "source": [
    "#converting to RA and Dec manually:\n",
    "ra_radians = 268.078083 * np.pi/180\n",
    "dec_radians = -33.00111 * np.pi/180\n",
    "ig = 62.6 * np.pi/180\n",
    "aN = 282.25 * np.pi/180\n",
    "l0 = 33.0 * np.pi/180\n",
    "\n",
    "sinb_radians = np.sin(dec_radians)*np.cos(ig) - np.cos(dec_radians) * np.sin(ra_radians - aN) * np.sin(ig)\n",
    "b_radians = np.arcsin(sinb_radians)\n",
    "b = b_radians * 180/np.pi\n",
    "print(b)\n",
    "\n",
    "cosl_minus_l0_radians = np.cos(dec_radians) * np.cos(ra_radians - aN) / np.cos(b_radians)\n",
    "l_radians = np.arccos(cosl_minus_l0_radians) + l0\n",
    "l = l_radians * 180/np.pi\n",
    "print(l)\n",
    "\n",
    "sinl_minus_l0_radians = (np.sin(dec_radians) * np.sin(ig) + np.cos(dec_radians) * np.sin(ra_radians - aN) * np.cos(ig))/np.cos(b_radians)\n",
    "l_radians1 = np.arcsin(sinl_minus_l0_radians) + l0\n",
    "l1 = l_radians1 * 180/np.pi\n",
    "print(l1 + 360)"
   ]
  }
 ],
 "metadata": {
  "kernelspec": {
   "display_name": "Python 3",
   "language": "python",
   "name": "python3"
  },
  "language_info": {
   "codemirror_mode": {
    "name": "ipython",
    "version": 3
   },
   "file_extension": ".py",
   "mimetype": "text/x-python",
   "name": "python",
   "nbconvert_exporter": "python",
   "pygments_lexer": "ipython3",
   "version": "3.6.3"
  }
 },
 "nbformat": 4,
 "nbformat_minor": 2
}
