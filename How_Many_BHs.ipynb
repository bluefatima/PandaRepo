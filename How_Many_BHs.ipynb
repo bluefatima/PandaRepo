{
 "cells": [
  {
   "cell_type": "code",
   "execution_count": 3,
   "metadata": {
    "collapsed": true
   },
   "outputs": [],
   "source": [
    "import numpy as np\n",
    "import matplotlib.pyplot as plt\n",
    "import random\n",
    "from scipy.optimize import curve_fit\n",
    "from collections import Counter"
   ]
  },
  {
   "cell_type": "markdown",
   "metadata": {},
   "source": [
    "# The IMF"
   ]
  },
  {
   "cell_type": "raw",
   "metadata": {},
   "source": [
    "The goal here is to gain familiarity with Popstar and making an IMF. Here we make a cluster of 10^4 solar masses using the Kroupa 2001 IMF."
   ]
  },
  {
   "cell_type": "code",
   "execution_count": 2,
   "metadata": {},
   "outputs": [
    {
     "ename": "FileNotFoundError",
     "evalue": "[Errno 2] No such file or directory: 'masses.txt'",
     "output_type": "error",
     "traceback": [
      "\u001b[0;31m---------------------------------------------------------------------------\u001b[0m",
      "\u001b[0;31mFileNotFoundError\u001b[0m                         Traceback (most recent call last)",
      "\u001b[0;32m<ipython-input-2-6f8b94aae655>\u001b[0m in \u001b[0;36m<module>\u001b[0;34m()\u001b[0m\n\u001b[1;32m      1\u001b[0m \u001b[0;31m#Kroupa_2001 IMF. cluster mass of 10**4 M_sol\u001b[0m\u001b[0;34m\u001b[0m\u001b[0;34m\u001b[0m\u001b[0m\n\u001b[0;32m----> 2\u001b[0;31m \u001b[0mmass_array\u001b[0m \u001b[0;34m=\u001b[0m \u001b[0mnp\u001b[0m\u001b[0;34m.\u001b[0m\u001b[0mloadtxt\u001b[0m\u001b[0;34m(\u001b[0m\u001b[0;34m\"masses.txt\"\u001b[0m\u001b[0;34m,\u001b[0m \u001b[0mdelimiter\u001b[0m \u001b[0;34m=\u001b[0m \u001b[0;34m\" \"\u001b[0m \u001b[0;34m)\u001b[0m\u001b[0;34m\u001b[0m\u001b[0m\n\u001b[0m\u001b[1;32m      3\u001b[0m \u001b[0;34m\u001b[0m\u001b[0m\n\u001b[1;32m      4\u001b[0m \u001b[0mxvals1\u001b[0m \u001b[0;34m=\u001b[0m \u001b[0mnp\u001b[0m\u001b[0;34m.\u001b[0m\u001b[0marange\u001b[0m\u001b[0;34m(\u001b[0m\u001b[0;36m0.01\u001b[0m\u001b[0;34m,\u001b[0m\u001b[0;36m0.08\u001b[0m\u001b[0;34m,\u001b[0m\u001b[0;36m0.001\u001b[0m\u001b[0;34m)\u001b[0m\u001b[0;34m\u001b[0m\u001b[0m\n\u001b[1;32m      5\u001b[0m \u001b[0myvals1\u001b[0m \u001b[0;34m=\u001b[0m \u001b[0mxvals1\u001b[0m\u001b[0;34m**\u001b[0m\u001b[0;36m0.7\u001b[0m\u001b[0;34m\u001b[0m\u001b[0m\n",
      "\u001b[0;32m/anaconda/envs/astroconda/lib/python3.5/site-packages/numpy/lib/npyio.py\u001b[0m in \u001b[0;36mloadtxt\u001b[0;34m(fname, dtype, comments, delimiter, converters, skiprows, usecols, unpack, ndmin)\u001b[0m\n\u001b[1;32m    858\u001b[0m                 \u001b[0mfh\u001b[0m \u001b[0;34m=\u001b[0m \u001b[0miter\u001b[0m\u001b[0;34m(\u001b[0m\u001b[0mopen\u001b[0m\u001b[0;34m(\u001b[0m\u001b[0mfname\u001b[0m\u001b[0;34m,\u001b[0m \u001b[0;34m'U'\u001b[0m\u001b[0;34m)\u001b[0m\u001b[0;34m)\u001b[0m\u001b[0;34m\u001b[0m\u001b[0m\n\u001b[1;32m    859\u001b[0m             \u001b[0;32melse\u001b[0m\u001b[0;34m:\u001b[0m\u001b[0;34m\u001b[0m\u001b[0m\n\u001b[0;32m--> 860\u001b[0;31m                 \u001b[0mfh\u001b[0m \u001b[0;34m=\u001b[0m \u001b[0miter\u001b[0m\u001b[0;34m(\u001b[0m\u001b[0mopen\u001b[0m\u001b[0;34m(\u001b[0m\u001b[0mfname\u001b[0m\u001b[0;34m)\u001b[0m\u001b[0;34m)\u001b[0m\u001b[0;34m\u001b[0m\u001b[0m\n\u001b[0m\u001b[1;32m    861\u001b[0m         \u001b[0;32melse\u001b[0m\u001b[0;34m:\u001b[0m\u001b[0;34m\u001b[0m\u001b[0m\n\u001b[1;32m    862\u001b[0m             \u001b[0mfh\u001b[0m \u001b[0;34m=\u001b[0m \u001b[0miter\u001b[0m\u001b[0;34m(\u001b[0m\u001b[0mfname\u001b[0m\u001b[0;34m)\u001b[0m\u001b[0;34m\u001b[0m\u001b[0m\n",
      "\u001b[0;31mFileNotFoundError\u001b[0m: [Errno 2] No such file or directory: 'masses.txt'"
     ]
    }
   ],
   "source": [
    "#Kroupa_2001 IMF. cluster mass of 10**4 M_sol\n",
    "mass_array = np.loadtxt(\"masses.txt\", delimiter = \" \" )\n",
    "\n",
    "xvals1 = np.arange(0.01,0.08,0.001)\n",
    "yvals1 = xvals1**0.7\n",
    "xvals2 = np.arange(0.08,0.5, 0.01)\n",
    "yvals2 = xvals2**-0.3\n",
    "xvals3 = np.arange(0.5,100,1)\n",
    "yvals3 = xvals3**-1.3\n",
    "\n",
    "#Trial-and-error fitting of the IMF\n",
    "#plt.plot(xvals1, 10**4 * yvals1,linewidth=2.0)\n",
    "#plt.plot(xvals2, 10**3 * yvals2,linewidth=2.0)\n",
    "#plt.plot(xvals3, 10**2.7 * yvals3,linewidth=2.0)\n",
    "plt.hist(mass_array, bins = np.logspace(-3,3,50))\n",
    "plt.xscale('log')\n",
    "plt.yscale('log')\n",
    "plt.show()"
   ]
  },
  {
   "cell_type": "markdown",
   "metadata": {},
   "source": [
    "FIXME: FIGURE OUT THE NORMALIZATIONNNN"
   ]
  },
  {
   "cell_type": "markdown",
   "metadata": {},
   "source": [
    "# The IFMF"
   ]
  },
  {
   "cell_type": "markdown",
   "metadata": {},
   "source": [
    "### Black Hole IFMF"
   ]
  },
  {
   "cell_type": "markdown",
   "metadata": {},
   "source": [
    "We attempt to reproduce the top half of Figure 1 and Figure 4 of Raithel et al. using equations (1) through (4), which gives fits for the IFMF for black holes. Note we've done a little bit of renaming here.There are two branches, Branches I and II, which are respectively\n",
    "\n",
    "\\begin{align*}\n",
    "    M_{BH, I}(M_{ZAMS}; f_{ej}) &= f_{ej}M_{BH, core}(M_{ZAMS}) + (1-f_{ej})M_{BH, all}(M_{ZAMS}), \\, 15 \\leq M_{ZAMS} < 40M_\\odot \\\\\n",
    "    M_{BH, II}(M_{ZAMS}) &= 5.796 + 1.05 \\times 10^9 (M_{ZAMS})^{-4.94}, \\, 45 \\leq M_{ZAMS} \\leq 120M_\\odot \\\\\n",
    "\\end{align*}\n",
    "\n",
    "where $f_{ej}$ is the ejection fraction, and\n",
    "\n",
    "\\begin{align*}\n",
    "    M_{BH, core}(M_{ZAMS}) &= -1.98 + 0.411M_{ZAMS} \\\\\n",
    "    M_{BH, all}(M_{ZAMS}) &= 16.1 - 0.194(M_{ZAMS} - 23.9) - 0.041(M_{ZAMS} - 23.9)^2 + 0.00307(M_{ZAMS} - 23.9)^3.\n",
    "\\end{align*}\n",
    "\n",
    "We pick $f_{ej} = 0.9$, as the paper suggests this is the best value. We also fill in the gap between 40 and 45 solar masses by just extending the domain of Branches I and II. Thus, the IFMF for black holes is \n",
    "\n",
    "\\begin{align}\n",
    "    IMFM_{BH}(M_{ZAMS}) &= 0.9 (-1.98 + 0.411M_{ZAMS}) + 0.1 [16.1 - 0.194(M_{ZAMS} - 23.9) - 0.041(M_{ZAMS} - 23.9)^2 + 0.00307(M_{ZAMS} - 23.9)^3], \\, 15 < M_{ZAMS} < 42.22 \\\\\n",
    "    &= 5.796 + 1.05 \\times 10^9 M_{ZAMS}^{-4.94}, \\, 42.22 < M_{ZAMS} < 120 \n",
    "\\end{align}"
   ]
  },
  {
   "cell_type": "code",
   "execution_count": 4,
   "metadata": {},
   "outputs": [
    {
     "data": {
      "image/png": "[encoded data removed]",
      "text/plain": [
       "<matplotlib.figure.Figure at 0x10e5a9828>"
      ]
     },
     "metadata": {},
     "output_type": "display_data"
    }
   ],
   "source": [
    "#Equation (1)\n",
    "def BHMassCore(MZAMS):\n",
    "    return -1.98 + 0.411*MZAMS\n",
    "\n",
    "#Equation (2)\n",
    "def BHMassAll(MZAMS):\n",
    "    return 16.1 - 0.194 * (MZAMS - 23.9) - 0.041 * (MZAMS - 23.9)**2 + 0.00307 * (MZAMS - 23.9)**3\n",
    "\n",
    "#Equation (3)\n",
    "def BHMassCoreHigh(MZAMS):\n",
    "    return 5.796 + 1.05 * 10**9 * MZAMS**-4.94\n",
    "\n",
    "#Equation (4)\n",
    "def BHMassExtrapolate(MZAMS, f_ej):\n",
    "    return f_ej * BHMassCore(MZAMS) + (1 - f_ej) * BHMassAll(MZAMS)\n",
    "\n",
    "#Branch I, this is defined different from the paper\n",
    "BHmassRange1 = np.linspace(15,42.22)\n",
    "\n",
    "#Branch II, this is defined different from the paper\n",
    "BHmassRange2 = np.linspace(42.22,120)\n",
    "\n",
    "#Plots f_ej = 0.9\n",
    "plt.title(\"BH Initial-Final Mass Relation\")\n",
    "plt.xlabel(\"M_ZAMS\")\n",
    "plt.ylabel(\"M_REM\")\n",
    "plt.plot(BHmassRange1,BHMassExtrapolate(BHmassRange1,0.9))\n",
    "plt.plot(BHmassRange2,BHMassCoreHigh(BHmassRange2))\n",
    "plt.show()"
   ]
  },
  {
   "cell_type": "markdown",
   "metadata": {},
   "source": [
    "### Neutron Star IFMF"
   ]
  },
  {
   "cell_type": "markdown",
   "metadata": {},
   "source": [
    "Raithel et al. gives seven different branches for neutron star formation, with quite complex fits for each of them, in equations (10) to (15). However, all the neutron stars produced are around 1.6 $\\pm$ 0.5 solar masses. For our purposes, we can approximate the final mass function to be flat. So, we'll approximate the neutron star IFMF as\n",
    "\n",
    "\\begin{equation}\n",
    "    IFMF_{NS}(M_{ZAMS}) = 1.6, 9 < M_{ZAMS} < 120.\n",
    "\\end{equation}"
   ]
  },
  {
   "cell_type": "markdown",
   "metadata": {},
   "source": [
    "### White Dwarf IFMF"
   ]
  },
  {
   "cell_type": "markdown",
   "metadata": {},
   "source": [
    "A quick perusal of the literature seems to show general consensus on a linear IFMF (which they call the Initial-Final Mass Relation, or IFMR). While the exact fits vary, we can just take one and run with it. From http://online.kitp.ucsb.edu/online/snovae-c07/williams/pdf/Williams_SnovaeConf_KITP.pdf we have\n",
    "\n",
    "\\begin{equation*}\n",
    "    IFMF_{WD}(M_{ZAMS}) = 0.358 + 0.123M_{ZAMS}\n",
    "\\end{equation*}\n",
    "\n",
    "FIXME: What ranges is this equation valid for? Certainly not less than 0.358 solar masses- you'll get something from nothing!"
   ]
  },
  {
   "cell_type": "markdown",
   "metadata": {},
   "source": [
    "### Getting the remnant mass"
   ]
  },
  {
   "cell_type": "code",
   "execution_count": 5,
   "metadata": {
    "collapsed": true
   },
   "outputs": [],
   "source": [
    "#Given the ZAMS mass, gives the remnant mass and type of compact object\n",
    "#Slightly different version of getRemnantMass\n",
    "#Assumptions: all neutron stars are the same mass\n",
    "#Assumptions: WD progenitor masses go from 1 to 9 solar masses\n",
    "def getRemMass(MZAMS,f_ej):\n",
    "    \"\"\"\n",
    "    type BH = Black Hole\n",
    "    type NS = Neutron Star\n",
    "    type WD = White Dwarf\n",
    "    type small = out of lower range\n",
    "    type big = out of upper range\n",
    "    \"\"\"\n",
    "    n = random.randint(1,101)\n",
    "    if (MZAMS >= 0.5) and (MZAMS < 9):\n",
    "        typecode = 'WD'\n",
    "        return 0.358 + 0.123 * MZAMS,typecode\n",
    "    if (MZAMS >= 9) and (MZAMS <= 15):\n",
    "        typeCode = 'NS'\n",
    "        return 1.6,typeCode\n",
    "    elif (MZAMS > 15) and (MZAMS <= 17.8):\n",
    "        if n > 68:\n",
    "            typeCode = 'BH'\n",
    "            return BHMassExtrapolate(MZAMS,f_ej),typeCode\n",
    "        else:\n",
    "            typeCode = 'NS'\n",
    "            return 1.6,typeCode\n",
    "    elif (MZAMS > 17.8) and (MZAMS <= 18.5):\n",
    "        if n > 83:\n",
    "            typeCode = 'BH'\n",
    "            return BHMassExtrapolate(MZAMS,f_ej),typeCode\n",
    "        else:\n",
    "            typeCode = 'NS'\n",
    "            return 1.6,typeCode\n",
    "    elif (MZAMS > 18.5) and (MZAMS <= 21.7):\n",
    "        if n > 50:\n",
    "            typeCode = 'BH'\n",
    "            return BHMassExtrapolate(MZAMS,f_ej),typeCode\n",
    "        else:\n",
    "            typeCode = 'NS'\n",
    "            return 1.6,typeCode\n",
    "    elif (MZAMS > 21.7) and (MZAMS <= 25.2):\n",
    "        typeCode = 'BH'\n",
    "        return BHMassExtrapolate(MZAMS,f_ej),typeCode\n",
    "    elif (MZAMS > 25.2) and (MZAMS <= 27.5):\n",
    "        if n > 65:\n",
    "            typeCode = 'BH'\n",
    "            return BHMassExtrapolate(MZAMS,f_ej),typeCode\n",
    "        else:\n",
    "            typeCode = 'NS'\n",
    "            return 1.6,typeCode\n",
    "    elif (MZAMS > 27.5) and (MZAMS <= 60):\n",
    "        typeCode = 'BH'\n",
    "        if MZAMS > 42:\n",
    "            return BHMassExtrapolate(MZAMS,f_ej),typeCode\n",
    "        else:\n",
    "            return BHMassCoreHigh(MZAMS),typeCode\n",
    "    elif (MZAMS > 60) and (MZAMS <= 120):\n",
    "        if n > 40:\n",
    "            typeCode = 'BH'\n",
    "            return BHMassCoreHigh(MZAMS),typeCode\n",
    "        else:\n",
    "            typeCode = 'NS'\n",
    "            return 1.6,typeCode\n",
    "    elif MZAMS < 0.5:\n",
    "        typeCode = 'small'\n",
    "        return 0, typeCode\n",
    "    else:\n",
    "        typeCode = 'big'\n",
    "        return 0, typeCode "
   ]
  },
  {
   "cell_type": "markdown",
   "metadata": {},
   "source": [
    "This is a quick demo of using getRemMass, assuming a flat input distribution of ZAMS masses."
   ]
  },
  {
   "cell_type": "code",
   "execution_count": 6,
   "metadata": {
    "scrolled": true
   },
   "outputs": [
    {
     "name": "stdout",
     "output_type": "stream",
     "text": [
      "Counter({'BH': 635, 'NS': 291, 'WD': 66, 'small': 8})\n"
     ]
    },
    {
     "data": {
      "image/png": "[encoded data removed]",
      "text/plain": [
       "<matplotlib.figure.Figure at 0x11191ff98>"
      ]
     },
     "metadata": {},
     "output_type": "display_data"
    }
   ],
   "source": [
    "typeArray = massArray = []\n",
    "\n",
    "#number of progenitor stars\n",
    "N = 1000\n",
    "\n",
    "for i in range(N):\n",
    "    randomZAMS = random.randint(0,120)\n",
    "    remnantMass, typeCode = getRemMass(randomZAMS,0.9)\n",
    "    typeArray = np.append(typeArray, typeCode)\n",
    "    massArray = np.append(massArray, remnantMass)\n",
    "\n",
    "#count how many WD, NS, and BH there are    \n",
    "print(Counter(typeArray))\n",
    "\n",
    "#plot the mass distribution\n",
    "plt.hist(massArray)\n",
    "plt.xlabel(\"Mass (solar)\")\n",
    "plt.ylabel(\"Number\")\n",
    "plt.title(\"Final Object Mass Distribution\")\n",
    "plt.show()"
   ]
  },
  {
   "cell_type": "markdown",
   "metadata": {},
   "source": [
    "To get a realistic distribution, you would draw from the IMF to get the relative weightings correct.  "
   ]
  },
  {
   "cell_type": "code",
   "execution_count": 7,
   "metadata": {},
   "outputs": [
    {
     "ename": "NameError",
     "evalue": "name 'mass_array' is not defined",
     "output_type": "error",
     "traceback": [
      "\u001b[0;31m---------------------------------------------------------------------------\u001b[0m",
      "\u001b[0;31mNameError\u001b[0m                                 Traceback (most recent call last)",
      "\u001b[0;32m<ipython-input-7-aebd6e6d2d31>\u001b[0m in \u001b[0;36m<module>\u001b[0;34m()\u001b[0m\n\u001b[1;32m      2\u001b[0m \u001b[0;34m\u001b[0m\u001b[0m\n\u001b[1;32m      3\u001b[0m \u001b[0;31m#number of progenitor stars\u001b[0m\u001b[0;34m\u001b[0m\u001b[0;34m\u001b[0m\u001b[0m\n\u001b[0;32m----> 4\u001b[0;31m \u001b[0mN\u001b[0m \u001b[0;34m=\u001b[0m \u001b[0mlen\u001b[0m\u001b[0;34m(\u001b[0m\u001b[0mmass_array\u001b[0m\u001b[0;34m)\u001b[0m\u001b[0;34m\u001b[0m\u001b[0m\n\u001b[0m\u001b[1;32m      5\u001b[0m \u001b[0;34m\u001b[0m\u001b[0m\n\u001b[1;32m      6\u001b[0m \u001b[0;32mfor\u001b[0m \u001b[0mi\u001b[0m \u001b[0;32min\u001b[0m \u001b[0mrange\u001b[0m\u001b[0;34m(\u001b[0m\u001b[0mN\u001b[0m\u001b[0;34m)\u001b[0m\u001b[0;34m:\u001b[0m\u001b[0;34m\u001b[0m\u001b[0m\n",
      "\u001b[0;31mNameError\u001b[0m: name 'mass_array' is not defined"
     ]
    }
   ],
   "source": [
    "typeArray = massArray = []\n",
    "\n",
    "#number of progenitor stars\n",
    "N = len(mass_array)\n",
    "\n",
    "for i in range(N):\n",
    "    remnantMass, typeCode = getRemMass(mass_array[i],0.9)\n",
    "    massArray = np.append(massArray, remnantMass)\n",
    "    typeArray = np.append(typeArray, typeCode)\n",
    "    \n",
    "#counts the different types    \n",
    "print(Counter(typeArray))    \n",
    "\n",
    "BHarray = [i for i in massArray if i > 3]    \n",
    "NSarray = [i for i in massArray if i <= 3 and i > 1.44]\n",
    "WDarray = [i for i in massArray if i > 0 and i <= 1.44]\n",
    "NAarray = [i for i in massArray if i == 0]\n",
    "\n",
    "#plot the mass distribution\n",
    "plt.hist(massArray, bins = 10*3)\n",
    "plt.axvline(x=3)\n",
    "plt.axvline(x=1.44)\n",
    "plt.xlabel(\"Mass (solar)\")\n",
    "plt.ylabel(\"Number\")\n",
    "plt.title(\"Final Object Mass Distribution\")\n",
    "plt.xscale('log')\n",
    "plt.yscale('log')\n",
    "plt.show()"
   ]
  },
  {
   "cell_type": "code",
   "execution_count": 8,
   "metadata": {
    "scrolled": true
   },
   "outputs": [
    {
     "ename": "NameError",
     "evalue": "name 'BHarray' is not defined",
     "output_type": "error",
     "traceback": [
      "\u001b[0;31m---------------------------------------------------------------------------\u001b[0m",
      "\u001b[0;31mNameError\u001b[0m                                 Traceback (most recent call last)",
      "\u001b[0;32m<ipython-input-8-199d69c801f5>\u001b[0m in \u001b[0;36m<module>\u001b[0;34m()\u001b[0m\n\u001b[0;32m----> 1\u001b[0;31m \u001b[0mplt\u001b[0m\u001b[0;34m.\u001b[0m\u001b[0mhist\u001b[0m\u001b[0;34m(\u001b[0m\u001b[0mBHarray\u001b[0m\u001b[0;34m)\u001b[0m\u001b[0;34m\u001b[0m\u001b[0m\n\u001b[0m\u001b[1;32m      2\u001b[0m \u001b[0mplt\u001b[0m\u001b[0;34m.\u001b[0m\u001b[0mxlabel\u001b[0m\u001b[0;34m(\u001b[0m\u001b[0;34m\"Mass (solar)\"\u001b[0m\u001b[0;34m)\u001b[0m\u001b[0;34m\u001b[0m\u001b[0m\n\u001b[1;32m      3\u001b[0m \u001b[0mplt\u001b[0m\u001b[0;34m.\u001b[0m\u001b[0mylabel\u001b[0m\u001b[0;34m(\u001b[0m\u001b[0;34m\"Number\"\u001b[0m\u001b[0;34m)\u001b[0m\u001b[0;34m\u001b[0m\u001b[0m\n\u001b[1;32m      4\u001b[0m \u001b[0mplt\u001b[0m\u001b[0;34m.\u001b[0m\u001b[0mtitle\u001b[0m\u001b[0;34m(\u001b[0m\u001b[0;34m\"Black Hole Mass Distribution\"\u001b[0m\u001b[0;34m)\u001b[0m\u001b[0;34m\u001b[0m\u001b[0m\n\u001b[1;32m      5\u001b[0m \u001b[0mplt\u001b[0m\u001b[0;34m.\u001b[0m\u001b[0mshow\u001b[0m\u001b[0;34m(\u001b[0m\u001b[0;34m)\u001b[0m\u001b[0;34m\u001b[0m\u001b[0m\n",
      "\u001b[0;31mNameError\u001b[0m: name 'BHarray' is not defined"
     ]
    }
   ],
   "source": [
    "plt.hist(BHarray)\n",
    "plt.xlabel(\"Mass (solar)\")\n",
    "plt.ylabel(\"Number\")\n",
    "plt.title(\"Black Hole Mass Distribution\")\n",
    "plt.show()"
   ]
  },
  {
   "cell_type": "markdown",
   "metadata": {},
   "source": [
    "Since we're mostly interested in the distribution of black holes, let's just consider the high mass end of the IMF."
   ]
  },
  {
   "cell_type": "code",
   "execution_count": 9,
   "metadata": {},
   "outputs": [
    {
     "name": "stdout",
     "output_type": "stream",
     "text": [
      "1000004.11178\n"
     ]
    },
    {
     "data": {
      "image/png": "[encoded data removed]",
      "text/plain": [
       "<matplotlib.figure.Figure at 0x10e5ce3c8>"
      ]
     },
     "metadata": {},
     "output_type": "display_data"
    }
   ],
   "source": [
    "#High_Mass_Casey IMF. cluster mass of 10**6 M_sol\n",
    "mass_array = np.loadtxt(\"highmasses.txt\", delimiter = \" \" )\n",
    "\n",
    "#Verify the mass of the cluster\n",
    "clustermass = np.sum(mass_array)\n",
    "print(clustermass)\n",
    "\n",
    "x = np.logspace(1,2.1)\n",
    "plt.hist(mass_array, bins = np.logspace(0.5,2.5,50))\n",
    "#Attempted fit...\n",
    "plt.plot(x,1.0735*10**6*x**-1.3)\n",
    "plt.xscale('log')\n",
    "plt.yscale('log')\n",
    "plt.show()"
   ]
  },
  {
   "cell_type": "code",
   "execution_count": 10,
   "metadata": {},
   "outputs": [
    {
     "name": "stderr",
     "output_type": "stream",
     "text": [
      "/anaconda/envs/astroconda/lib/python3.5/site-packages/matplotlib/ticker.py:2039: UserWarning: Data has no positive values, and therefore cannot be log-scaled.\n",
      "  \"Data has no positive values, and therefore cannot be \"\n"
     ]
    },
    {
     "data": {
      "image/png": "[encoded data removed]",
      "text/plain": [
       "<matplotlib.figure.Figure at 0x111953128>"
      ]
     },
     "metadata": {},
     "output_type": "display_data"
    }
   ],
   "source": [
    "#plot the mass distribution\n",
    "plt.hist(massArray, bins = 10*3)\n",
    "plt.axvline(x=3)\n",
    "plt.axvline(x=1.44)\n",
    "plt.xlabel(\"Mass (solar)\")\n",
    "plt.ylabel(\"Number\")\n",
    "plt.title(\"Final Object Mass Distribution\")\n",
    "#plt.xscale('log')\n",
    "plt.yscale('log')\n",
    "plt.show()"
   ]
  },
  {
   "cell_type": "code",
   "execution_count": 11,
   "metadata": {},
   "outputs": [
    {
     "ename": "NameError",
     "evalue": "name 'BHarray' is not defined",
     "output_type": "error",
     "traceback": [
      "\u001b[0;31m---------------------------------------------------------------------------\u001b[0m",
      "\u001b[0;31mNameError\u001b[0m                                 Traceback (most recent call last)",
      "\u001b[0;32m<ipython-input-11-199d69c801f5>\u001b[0m in \u001b[0;36m<module>\u001b[0;34m()\u001b[0m\n\u001b[0;32m----> 1\u001b[0;31m \u001b[0mplt\u001b[0m\u001b[0;34m.\u001b[0m\u001b[0mhist\u001b[0m\u001b[0;34m(\u001b[0m\u001b[0mBHarray\u001b[0m\u001b[0;34m)\u001b[0m\u001b[0;34m\u001b[0m\u001b[0m\n\u001b[0m\u001b[1;32m      2\u001b[0m \u001b[0mplt\u001b[0m\u001b[0;34m.\u001b[0m\u001b[0mxlabel\u001b[0m\u001b[0;34m(\u001b[0m\u001b[0;34m\"Mass (solar)\"\u001b[0m\u001b[0;34m)\u001b[0m\u001b[0;34m\u001b[0m\u001b[0m\n\u001b[1;32m      3\u001b[0m \u001b[0mplt\u001b[0m\u001b[0;34m.\u001b[0m\u001b[0mylabel\u001b[0m\u001b[0;34m(\u001b[0m\u001b[0;34m\"Number\"\u001b[0m\u001b[0;34m)\u001b[0m\u001b[0;34m\u001b[0m\u001b[0m\n\u001b[1;32m      4\u001b[0m \u001b[0mplt\u001b[0m\u001b[0;34m.\u001b[0m\u001b[0mtitle\u001b[0m\u001b[0;34m(\u001b[0m\u001b[0;34m\"Black Hole Mass Distribution\"\u001b[0m\u001b[0;34m)\u001b[0m\u001b[0;34m\u001b[0m\u001b[0m\n\u001b[1;32m      5\u001b[0m \u001b[0mplt\u001b[0m\u001b[0;34m.\u001b[0m\u001b[0mshow\u001b[0m\u001b[0;34m(\u001b[0m\u001b[0;34m)\u001b[0m\u001b[0;34m\u001b[0m\u001b[0m\n",
      "\u001b[0;31mNameError\u001b[0m: name 'BHarray' is not defined"
     ]
    }
   ],
   "source": [
    "plt.hist(BHarray)\n",
    "plt.xlabel(\"Mass (solar)\")\n",
    "plt.ylabel(\"Number\")\n",
    "plt.title(\"Black Hole Mass Distribution\")\n",
    "plt.show()"
   ]
  },
  {
   "cell_type": "markdown",
   "metadata": {},
   "source": [
    "# Number of BHs in the Milky Way"
   ]
  },
  {
   "cell_type": "markdown",
   "metadata": {},
   "source": [
    "A guesstimate: our galaxy cluster was $10^4 M_\\odot$. According to the internet, the Milky Way is about $10^{12} M_\\odot$. From the $10^4 M_\\odot$ cluster, we get about 20ish black holes. Extrapolating that number, we expect the Milky Way to have about a billion black holes. The internet claims in the Milky Way has about 100 million black holes. FIXME: it's the mass of STARS that's important. don't want dust or dark matter :P"
   ]
  },
  {
   "cell_type": "markdown",
   "metadata": {
    "collapsed": true
   },
   "source": [
    "# Analytic Formula for the Black Hole Mass Distribution"
   ]
  },
  {
   "cell_type": "code",
   "execution_count": null,
   "metadata": {
    "collapsed": true
   },
   "outputs": [],
   "source": [
    "def number(MZAMS):\n",
    "    return "
   ]
  }
 ],
 "metadata": {
  "kernelspec": {
   "display_name": "Python 3",
   "language": "python",
   "name": "python3"
  },
  "language_info": {
   "codemirror_mode": {
    "name": "ipython",
    "version": 3
   },
   "file_extension": ".py",
   "mimetype": "text/x-python",
   "name": "python",
   "nbconvert_exporter": "python",
   "pygments_lexer": "ipython3",
   "version": "3.5.3"
  }
 },
 "nbformat": 4,
 "nbformat_minor": 2
}
