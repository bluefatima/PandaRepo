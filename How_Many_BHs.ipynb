{
 "cells": [
  {
   "cell_type": "code",
   "execution_count": 1,
   "metadata": {
    "collapsed": true
   },
   "outputs": [],
   "source": [
    "import numpy as np\n",
    "import matplotlib.pyplot as plt\n",
    "import random\n",
    "from scipy.optimize import curve_fit\n",
    "from collections import Counter\n",
    "import pdb"
   ]
  },
  {
   "cell_type": "markdown",
   "metadata": {},
   "source": [
    "# The IMF\n",
    "\n",
    "The goal here is to gain familiarity with Popstar and making an IMF. Here we make a cluster of 10^4 solar masses using the Kroupa 2001 IMF."
   ]
  },
  {
   "cell_type": "code",
   "execution_count": 2,
   "metadata": {},
   "outputs": [
    {
     "name": "stdout",
     "output_type": "stream",
     "text": [
      "21417\n"
     ]
    },
    {
     "data": {
      "image/png": "[encoded data removed]",
      "text/plain": [
       "<matplotlib.figure.Figure at 0x7f09af3816a0>"
      ]
     },
     "metadata": {},
     "output_type": "display_data"
    }
   ],
   "source": [
    "#Kroupa_2001 IMF. cluster mass of 10**4 M_sol\n",
    "mass_array_10e4_Kroupa_2001 = np.loadtxt(\"masses.txt\", delimiter = \" \" )\n",
    "\n",
    "#how many stars are in the cluster?\n",
    "print(len(mass_array_10e4_Kroupa_2001))\n",
    "\n",
    "xvals1 = np.arange(0.01,0.08,0.001)\n",
    "yvals1 = xvals1**0.7\n",
    "xvals2 = np.arange(0.08,0.5, 0.01)\n",
    "yvals2 = xvals2**-0.3\n",
    "xvals3 = np.arange(0.5,100,1)\n",
    "yvals3 = xvals3**-1.3\n",
    "\n",
    "plt.hist(mass_array_10e4_Kroupa_2001, bins = np.logspace(-3,3,50))\n",
    "plt.xscale('log')\n",
    "plt.yscale('log')\n",
    "plt.show()"
   ]
  },
  {
   "cell_type": "markdown",
   "metadata": {},
   "source": [
    "# The IFMF\n",
    "\n",
    "### Black Hole IFMF\n",
    "\n",
    "We attempt to reproduce the top half of Figure 1 and Figure 4 of Raithel et al. using equations (1) through (4), which gives fits for the IFMF for black holes. Note we've done a little bit of renaming here.There are two branches, Branches I and II, which are respectively\n",
    "\n",
    "\\begin{align*}\n",
    "    M_{BH, I}(M_{ZAMS}; f_{ej}) &= f_{ej}M_{BH, core}(M_{ZAMS}) + (1-f_{ej})M_{BH, all}(M_{ZAMS}), \\, 15 \\leq M_{ZAMS} < 40M_\\odot \\\\\n",
    "    M_{BH, II}(M_{ZAMS}) &= 5.796 + 1.05 \\times 10^9 (M_{ZAMS})^{-4.94}, \\, 45 \\leq M_{ZAMS} \\leq 120M_\\odot \\\\\n",
    "\\end{align*}\n",
    "\n",
    "where $f_{ej}$ is the ejection fraction, and\n",
    "\n",
    "\\begin{align*}\n",
    "    M_{BH, core}(M_{ZAMS}) &= -1.98 + 0.411M_{ZAMS} \\\\\n",
    "    M_{BH, all}(M_{ZAMS}) &= 16.1 - 0.194(M_{ZAMS} - 23.9) - 0.041(M_{ZAMS} - 23.9)^2 + 0.00307(M_{ZAMS} - 23.9)^3.\n",
    "\\end{align*}\n",
    "\n",
    "We pick $f_{ej} = 0.9$, as the paper suggests this is the best value. We also fill in the gap between 40 and 45 solar masses by just extending the domain of Branches I and II. Thus, the IFMF for black holes is \n",
    "\n",
    "\\begin{align}\n",
    "    IMFM_{BH}(M_{ZAMS}) &= 0.9 (-1.98 + 0.411M_{ZAMS}) + 0.1 [16.1 - 0.194(M_{ZAMS} - 23.9) - 0.041(M_{ZAMS} - 23.9)^2 + 0.00307(M_{ZAMS} - 23.9)^3], \\, 15 < M_{ZAMS} < 42.22 \\\\\n",
    "    &= 5.796 + 1.05 \\times 10^9 M_{ZAMS}^{-4.94}, \\, 42.22 < M_{ZAMS} < 120 \n",
    "\\end{align}"
   ]
  },
  {
   "cell_type": "code",
   "execution_count": 3,
   "metadata": {},
   "outputs": [
    {
     "data": {
      "image/png": "[encoded data removed]",
      "text/plain": [
       "<matplotlib.figure.Figure at 0x7f097e2698d0>"
      ]
     },
     "metadata": {},
     "output_type": "display_data"
    }
   ],
   "source": [
    "#Equation (1)\n",
    "def BHMassCore(MZAMS):\n",
    "    return -1.98 + 0.411*MZAMS\n",
    "\n",
    "#Equation (2)\n",
    "def BHMassAll(MZAMS):\n",
    "    return 16.1 - 0.194 * (MZAMS - 23.9) - 0.041 * (MZAMS - 23.9)**2 + 0.00307 * (MZAMS - 23.9)**3\n",
    "\n",
    "#Equation (3)\n",
    "def BHMassCoreHigh(MZAMS):\n",
    "    return 5.796 + 1.05 * 10**9 * MZAMS**-4.94\n",
    "\n",
    "#Equation (4)\n",
    "def BHMassExtrapolate(MZAMS, f_ej):\n",
    "    return f_ej * BHMassCore(MZAMS) + (1 - f_ej) * BHMassAll(MZAMS)\n",
    "\n",
    "#Branch I, this is defined different from the paper\n",
    "BHmassRange1 = np.linspace(15,42.22)\n",
    "\n",
    "#Branch II, this is defined different from the paper\n",
    "BHmassRange2 = np.linspace(42.22,120)\n",
    "\n",
    "#Plots f_ej = 0.9\n",
    "plt.title(\"BH Initial-Final Mass Relation\")\n",
    "plt.xlabel(\"M_ZAMS\")\n",
    "plt.ylabel(\"M_REM\")\n",
    "plt.plot(BHmassRange1,BHMassExtrapolate(BHmassRange1,0.9))\n",
    "plt.plot(BHmassRange2,BHMassCoreHigh(BHmassRange2))\n",
    "plt.show()"
   ]
  },
  {
   "cell_type": "markdown",
   "metadata": {},
   "source": [
    "Note that all the black holes produced are between 5 to 16 solar masses.\n",
    "\n",
    "### Neutron Star IFMF\n",
    "\n",
    "Raithel et al. gives seven different branches for neutron star formation, with quite complex fits for each of them, in equations (10) to (15). However, all the neutron stars produced are around 1.6 $\\pm$ 0.5 solar masses. For our purposes, we can approximate the final mass function to be flat. So, we'll approximate the neutron star IFMF as\n",
    "\n",
    "\\begin{equation}\n",
    "    IFMF_{NS}(M_{ZAMS}) = 1.6, 9 < M_{ZAMS} < 120.\n",
    "\\end{equation}\n",
    "\n",
    "### White Dwarf IFMF\n",
    "\n",
    "A quick perusal of the literature seems to show general consensus on a linear IFMF (which they call the Initial-Final Mass Relation, or IFMR). The exact fits vary, but we can just take one and run with it. From http://online.kitp.ucsb.edu/online/snovae-c07/williams/pdf/Williams_SnovaeConf_KITP.pdf we have\n",
    "\n",
    "\\begin{equation*}\n",
    "    IFMF_{WD}(M_{ZAMS}) = 0.358 + 0.123M_{ZAMS}\n",
    "\\end{equation*}\n",
    "\n",
    "FIXME: What ranges is this equation valid for? Certainly not less than 0.358 solar masses- you'll get something from nothing!\n",
    "\n",
    "### Getting the remnant mass\n",
    "\n",
    "$\\texttt{getRemMass}$ is a simulation that will, given some distribution of ZAMS masses, spit out the remnant masses and the remnant types. "
   ]
  },
  {
   "cell_type": "code",
   "execution_count": 4,
   "metadata": {
    "collapsed": true
   },
   "outputs": [],
   "source": [
    "#Given the ZAMS mass, gives the remnant mass and type of compact object\n",
    "#Slightly different version of getRemnantMass\n",
    "#Assumptions: all neutron stars are the same mass\n",
    "#Assumptions: WD progenitor masses go from 1 to 9 solar masses\n",
    "def getRemMass(MZAMS,f_ej):\n",
    "    \"\"\"\n",
    "    type BH = Black Hole\n",
    "    type NS = Neutron Star\n",
    "    type WD = White Dwarf\n",
    "    type small = out of lower range\n",
    "    type big = out of upper range\n",
    "    \"\"\"\n",
    "    n = random.randint(1,101)\n",
    "    if (MZAMS >= 0.5) and (MZAMS < 9):\n",
    "        typecode = 'WD'\n",
    "        return 0.358 + 0.123 * MZAMS,typecode\n",
    "    elif (MZAMS >= 9) and (MZAMS <= 15):\n",
    "        typeCode = 'NS'\n",
    "        return 1.6,typeCode\n",
    "    elif (MZAMS > 15) and (MZAMS <= 17.8):\n",
    "        if n > 68:\n",
    "            typeCode = 'BH'\n",
    "            return BHMassExtrapolate(MZAMS,f_ej),typeCode\n",
    "        else:\n",
    "            typeCode = 'NS'\n",
    "            return 1.6,typeCode\n",
    "    elif (MZAMS > 17.8) and (MZAMS <= 18.5):\n",
    "        if n > 83:\n",
    "            typeCode = 'BH'\n",
    "            return BHMassExtrapolate(MZAMS,f_ej),typeCode\n",
    "        else:\n",
    "            typeCode = 'NS'\n",
    "            return 1.6,typeCode\n",
    "    elif (MZAMS > 18.5) and (MZAMS <= 21.7):\n",
    "        if n > 50:\n",
    "            typeCode = 'BH'\n",
    "            return BHMassExtrapolate(MZAMS,f_ej),typeCode\n",
    "        else:\n",
    "            typeCode = 'NS'\n",
    "            return 1.6,typeCode\n",
    "    elif (MZAMS > 21.7) and (MZAMS <= 25.2):\n",
    "        typeCode = 'BH'\n",
    "        return BHMassExtrapolate(MZAMS,f_ej),typeCode\n",
    "    elif (MZAMS > 25.2) and (MZAMS <= 27.5):\n",
    "        if n > 65:\n",
    "            typeCode = 'BH'\n",
    "            return BHMassExtrapolate(MZAMS,f_ej),typeCode\n",
    "        else:\n",
    "            typeCode = 'NS'\n",
    "            return 1.6,typeCode\n",
    "    elif (MZAMS > 27.5) and (MZAMS <= 60):\n",
    "        typeCode = 'BH'\n",
    "        if MZAMS > 42:\n",
    "            return BHMassCoreHigh(MZAMS),typeCode\n",
    "        else:\n",
    "            return BHMassExtrapolate(MZAMS,f_ej),typeCode\n",
    "    elif (MZAMS > 60) and (MZAMS <= 120):\n",
    "        if n > 40:\n",
    "            typeCode = 'BH'\n",
    "            return BHMassCoreHigh(MZAMS),typeCode\n",
    "        else:\n",
    "            typeCode = 'NS'\n",
    "            return 1.6,typeCode\n",
    "    elif MZAMS < 0.5:\n",
    "        typeCode = 'small'\n",
    "        return 0, typeCode\n",
    "    else:\n",
    "        typeCode = 'big'\n",
    "        return 0, typeCode "
   ]
  },
  {
   "cell_type": "markdown",
   "metadata": {},
   "source": [
    "This is a quick demo of $\\texttt{getRemMass}$, assuming a flat input distribution of ZAMS masses."
   ]
  },
  {
   "cell_type": "code",
   "execution_count": 5,
   "metadata": {
    "scrolled": true
   },
   "outputs": [
    {
     "name": "stdout",
     "output_type": "stream",
     "text": [
      "Counter({'BH': 601, 'NS': 323, 'WD': 69, 'small': 7})\n"
     ]
    },
    {
     "data": {
      "image/png": "[encoded data removed]",
      "text/plain": [
       "<matplotlib.figure.Figure at 0x7f097e2fb2b0>"
      ]
     },
     "metadata": {},
     "output_type": "display_data"
    }
   ],
   "source": [
    "typeArrayFlat = massArrayFlat = []\n",
    "\n",
    "#number of progenitor stars\n",
    "N = 1000\n",
    "\n",
    "for i in range(N):\n",
    "    randomZAMS = random.randint(0,120)\n",
    "    remnantMassFlat, typeCodeFlat = getRemMass(randomZAMS,0.9)\n",
    "    typeArrayFlat = np.append(typeArrayFlat, typeCodeFlat)\n",
    "    massArrayFlat = np.append(massArrayFlat, remnantMassFlat)\n",
    "\n",
    "#count how many WD, NS, and BH there are    \n",
    "print(Counter(typeArrayFlat))\n",
    "\n",
    "#plot the mass distribution\n",
    "plt.hist(massArrayFlat)\n",
    "plt.xlabel(\"Mass (solar)\")\n",
    "plt.ylabel(\"Number\")\n",
    "plt.title(\"Final Object Mass Distribution\")\n",
    "plt.show()"
   ]
  },
  {
   "cell_type": "markdown",
   "metadata": {},
   "source": [
    "To get a realistic distribution, you would draw from the IMF to get the relative weightings correct. Here we use the Kroupa 2001 IMF for a cluster of $10^4 M_\\odot$."
   ]
  },
  {
   "cell_type": "code",
   "execution_count": 6,
   "metadata": {},
   "outputs": [
    {
     "name": "stdout",
     "output_type": "stream",
     "text": [
      "Counter({'small': 18069, 'WD': 3269, 'NS': 54, 'BH': 22, 'big': 3})\n"
     ]
    },
    {
     "data": {
      "image/png": "[encoded data removed]",
      "text/plain": [
       "<matplotlib.figure.Figure at 0x7f097dc7a860>"
      ]
     },
     "metadata": {},
     "output_type": "display_data"
    }
   ],
   "source": [
    "typeArrayKroupa = massArrayKroupa = []\n",
    "\n",
    "#number of progenitor stars\n",
    "N = len(mass_array_10e4_Kroupa_2001)\n",
    "\n",
    "for i in range(N):\n",
    "    remnantMassKroupa, typeCodeKroupa = getRemMass(mass_array_10e4_Kroupa_2001[i],0.9)\n",
    "    massArrayKroupa = np.append(massArrayKroupa, remnantMassKroupa)\n",
    "    typeArrayKroupa = np.append(typeArrayKroupa, typeCodeKroupa)\n",
    "    \n",
    "#counts the different types    \n",
    "print(Counter(typeArrayKroupa))    \n",
    "\n",
    "BHarrayKroupa = [i for i in massArrayKroupa if i > 3]    \n",
    "NSarrayKroupa = [i for i in massArrayKroupa if i <= 3 and i > 1.44]\n",
    "WDarrayKroupa = [i for i in massArrayKroupa if i > 0 and i <= 1.44]\n",
    "NAarrayKroupa = [i for i in massArrayKroupa if i == 0]\n",
    "\n",
    "#plot the mass distribution\n",
    "plt.hist(massArrayKroupa, bins = 10*3)\n",
    "plt.axvline(x=3)\n",
    "plt.axvline(x=1.44)\n",
    "plt.xlabel(\"Mass (solar)\")\n",
    "plt.ylabel(\"Number\")\n",
    "plt.title(\"Final Object Mass Distribution\")\n",
    "plt.xscale('log')\n",
    "plt.yscale('log')\n",
    "plt.show()"
   ]
  },
  {
   "cell_type": "code",
   "execution_count": 7,
   "metadata": {
    "scrolled": true
   },
   "outputs": [
    {
     "data": {
      "image/png": "[encoded data removed]",
      "text/plain": [
       "<matplotlib.figure.Figure at 0x7f097dc9a518>"
      ]
     },
     "metadata": {},
     "output_type": "display_data"
    }
   ],
   "source": [
    "plt.hist(BHarrayKroupa)\n",
    "plt.xlabel(\"Mass (solar)\")\n",
    "plt.ylabel(\"Number\")\n",
    "plt.title(\"Black Hole Mass Distribution\")\n",
    "plt.show()"
   ]
  },
  {
   "cell_type": "markdown",
   "metadata": {},
   "source": [
    "Since we're mostly interested in the distribution of black holes, let's just consider the high mass end of the IMF. In particular, here we consider a cluster of $10^6 M_\\odot$, of the Kroupa IMF, just from 9 to 120 $M_\\odot$."
   ]
  },
  {
   "cell_type": "code",
   "execution_count": 8,
   "metadata": {},
   "outputs": [
    {
     "name": "stdout",
     "output_type": "stream",
     "text": [
      "1000004.11178\n"
     ]
    },
    {
     "data": {
      "image/png": "[encoded data removed]",
      "text/plain": [
       "<matplotlib.figure.Figure at 0x7f097dc5e748>"
      ]
     },
     "metadata": {},
     "output_type": "display_data"
    }
   ],
   "source": [
    "#High_Mass_Casey IMF. cluster mass of 10**6 M_sol\n",
    "mass_array_10e6_High_Mass = np.loadtxt(\"highmasses.txt\", delimiter = \" \" )\n",
    "\n",
    "#Verify the mass of the cluster\n",
    "clustermass = np.sum(mass_array_10e6_High_Mass)\n",
    "print(clustermass)\n",
    "\n",
    "#make bins all width 1\n",
    "x1 = np.linspace(9,121,111)\n",
    "hist1,bins1 = np.histogram(mass_array_10e6_High_Mass, bins = np.linspace(9,121,111))\n",
    "plt.plot(bins1[:-1],hist1,drawstyle='steps-post')\n",
    "plt.hist(mass_array_10e6_High_Mass, bins = np.linspace(9,121,111))\n",
    "#Attempted fit...\n",
    "plt.plot(x1,1.07*10**6*x1**-2.3)\n",
    "plt.xscale('log')\n",
    "plt.yscale('log')\n",
    "plt.show()"
   ]
  },
  {
   "cell_type": "markdown",
   "metadata": {},
   "source": [
    "Note: I spent an embarrassingly large amount of time trying to understand why I couldn't plot the analytic curve correctly onto the histogram (the normalization was wrong.) It's actually pretty obvious if you think about it (changing bin widths will change the curve that fits the histogram.) This might become a short writeup for me to explain it to myself.\n",
    "\n",
    "FIXME: ADDITIONAL THOUGHT... should I have used the $\\alpha$ version instead of the $\\Gamma$ version?"
   ]
  },
  {
   "cell_type": "code",
   "execution_count": 9,
   "metadata": {},
   "outputs": [
    {
     "name": "stdout",
     "output_type": "stream",
     "text": [
      "Counter({'NS': 30636, 'BH': 15282})\n"
     ]
    },
    {
     "data": {
      "image/png": "[encoded data removed]",
      "text/plain": [
       "<matplotlib.figure.Figure at 0x7f097da57278>"
      ]
     },
     "metadata": {},
     "output_type": "display_data"
    }
   ],
   "source": [
    "typeArrayHigh = massArrayHigh = []\n",
    "\n",
    "#number of progenitor stars\n",
    "N = len(mass_array_10e6_High_Mass)\n",
    "\n",
    "for i in range(N):\n",
    "    remnantMassHigh, typeCodeHigh = getRemMass(mass_array_10e6_High_Mass[i],0.9)\n",
    "    massArrayHigh = np.append(massArrayHigh, remnantMassHigh)\n",
    "    typeArrayHigh = np.append(typeArrayHigh, typeCodeHigh)\n",
    "    \n",
    "#counts the different types    \n",
    "print(Counter(typeArrayHigh))    \n",
    "\n",
    "BHarrayHigh = [i for i in massArrayHigh if i > 3]    \n",
    "NSarrayHigh = [i for i in massArrayHigh if i <= 3 and i > 1.44]\n",
    "WDarrayHigh = [i for i in massArrayHigh if i > 0 and i <= 1.44]\n",
    "NAarrayHigh = [i for i in massArrayHigh if i == 0]\n",
    "\n",
    "#plot the mass distribution\n",
    "plt.hist(massArrayHigh, bins = 10*3)\n",
    "plt.axvline(x=3)\n",
    "plt.axvline(x=1.44)\n",
    "plt.xlabel(\"Mass (solar)\")\n",
    "plt.ylabel(\"Number\")\n",
    "plt.title(\"Final Object Mass Distribution\")\n",
    "#plt.xscale('log')\n",
    "plt.yscale('log')\n",
    "plt.show()"
   ]
  },
  {
   "cell_type": "markdown",
   "metadata": {},
   "source": [
    "Fun fact: if you comment out the plt.xscale('log') line, you can see the mass gap between neutron stars and black holes :D "
   ]
  },
  {
   "cell_type": "code",
   "execution_count": 10,
   "metadata": {},
   "outputs": [
    {
     "data": {
      "image/png": "[encoded data removed]",
      "text/plain": [
       "<matplotlib.figure.Figure at 0x7f097de93860>"
      ]
     },
     "metadata": {},
     "output_type": "display_data"
    }
   ],
   "source": [
    "plt.hist(BHarrayHigh)\n",
    "plt.xlabel(\"Mass (solar)\")\n",
    "plt.ylabel(\"Number\")\n",
    "plt.title(\"Black Hole Mass Distribution\")\n",
    "plt.show()"
   ]
  },
  {
   "cell_type": "markdown",
   "metadata": {},
   "source": [
    "# Number of BHs in the Milky Way\n",
    "\n",
    "A guesstimate: our galaxy cluster was $10^4 M_\\odot$, with 21417 stars (let's just say $2 \\times 10^4$ stars). According to the internet, the Milky Way has about 200 billion ($2 \\times 10^{11}$) stars. From $2 \\times 10^4$ stars, we get about 20 black holes. Extrapolating that number, we expect the Milky Way to have about $2 \\times 10^8$ black holes, or 200 million black holes. The internet claims in the Milky Way has about 100 million black holes.\n",
    "\n",
    "# Analytic Formula for the Black Hole Mass Distribution\n",
    "\n",
    "$\\texttt{getRemDist}$ uses the analytic formulas for the IMF and the IFMF to figure out the remnant masses and distribution."
   ]
  },
  {
   "cell_type": "code",
   "execution_count": 11,
   "metadata": {
    "collapsed": true
   },
   "outputs": [],
   "source": [
    "#Assumptions: all neutron stars are the same mass\n",
    "#Assumptions: WD progenitor masses go from 1 to 9 solar masses\n",
    "\n",
    "#This is the number of stars, in THOUSANDS! (i.e. to get the real number, multiply by 10^3)\n",
    "def number(MZAMS):\n",
    "    return 1.0735*10**3*MZAMS**-1.3\n",
    "\n",
    "def getRemDist(MZAMS, f_ej):\n",
    "    finalMassArray = []\n",
    "    for i in np.arange(len(MZAMS)):\n",
    "        num = number(MZAMS[i])\n",
    "        if (MZAMS[i] >= 9) and (MZAMS[i] <= 15):\n",
    "            num = int(num)\n",
    "            finalMassArray = np.append(finalMassArray, 1.6*np.ones(num))\n",
    "        elif (MZAMS[i] > 15) and (MZAMS[i] <= 17.8):\n",
    "            BHnum = int(num*0.32)\n",
    "            NSnum = int(num*0.68)\n",
    "            BHmass = BHMassExtrapolate(MZAMS[i],0.9)\n",
    "            finalMassArray = np.append(finalMassArray, BHmass*np.ones(BHnum))\n",
    "            finalMassArray = np.append(finalMassArray, 1.6*np.ones(NSnum))\n",
    "        elif (MZAMS[i] > 17.8) and (MZAMS[i] <= 18.5):\n",
    "            BHnum = int(num*0.17)\n",
    "            NSnum = int(num*0.83)\n",
    "            BHmass = BHMassExtrapolate(MZAMS[i],0.9)\n",
    "            finalMassArray = np.append(finalMassArray, BHmass*np.ones(BHnum))\n",
    "            finalMassArray = np.append(finalMassArray, 1.6*np.ones(NSnum))\n",
    "        elif (MZAMS[i] > 18.5) and (MZAMS[i] <= 21.7):\n",
    "            BHnum = NSnum = int(num*0.5)\n",
    "            BHmass = BHMassExtrapolate(MZAMS[i],0.9)\n",
    "            finalMassArray = np.append(finalMassArray, BHmass*np.ones(BHnum))\n",
    "            finalMassArray = np.append(finalMassArray, 1.6*np.ones(NSnum))\n",
    "        elif (MZAMS[i] > 21.7) and (MZAMS[i] <= 25.2):\n",
    "            num = int(num)\n",
    "            BHmass = BHMassExtrapolate(MZAMS[i],0.9)\n",
    "            finalMassArray = np.append(finalMassArray, BHmass*np.ones(BHnum))\n",
    "        elif (MZAMS[i] > 25.2) and (MZAMS[i] <= 27.5):\n",
    "            BHnum = int(num*0.35)\n",
    "            NSnum = int(num*0.65)\n",
    "            BHmass = BHMassExtrapolate(MZAMS[i],0.9)\n",
    "            finalMassArray = np.append(finalMassArray, BHmass*np.ones(BHnum))\n",
    "            finalMassArray = np.append(finalMassArray, 1.6*np.ones(NSnum))\n",
    "        elif (MZAMS[i] > 27.5) and (MZAMS[i] <= 42.2):\n",
    "            num = int(num)\n",
    "            BHmass = BHMassExtrapolate(MZAMS[i],0.9)\n",
    "            finalMassArray = np.append(finalMassArray, BHmass*np.ones(num))\n",
    "        elif (MZAMS[i] > 42.4) and (MZAMS[i] <= 60):\n",
    "            num = int(num)\n",
    "            BHmass = BHMassCoreHigh(MZAMS[i])\n",
    "            finalMassArray = np.append(finalMassArray, BHmass*np.ones(num))\n",
    "        elif (MZAMS[i] > 60) and (MZAMS[i] <= 120):\n",
    "            BHnum = int(num*0.6)\n",
    "            NSnum = int(num*0.4)\n",
    "            BHmass = BHMassCoreHigh(MZAMS[i])\n",
    "            finalMassArray = np.append(finalMassArray, BHmass*np.ones(BHnum))\n",
    "            finalMassArray = np.append(finalMassArray, 1.6*np.ones(NSnum))\n",
    "        else:\n",
    "            finalMassArray = finalMassArray\n",
    "    return finalMassArray"
   ]
  },
  {
   "cell_type": "code",
   "execution_count": 12,
   "metadata": {},
   "outputs": [
    {
     "data": {
      "image/png": "[encoded data removed]",
      "text/plain": [
       "<matplotlib.figure.Figure at 0x7f097e3fba20>"
      ]
     },
     "metadata": {},
     "output_type": "display_data"
    }
   ],
   "source": [
    "logMassVector = np.logspace(0.9,2.1,1000)\n",
    "logMasses = getRemDist(logMassVector,0.9)\n",
    "plt.hist(logMasses)\n",
    "plt.yscale(\"log\")\n",
    "plt.title(\"Remnant mass distribution\")\n",
    "plt.xlabel(\"Remnant Mass (solar masses)\")\n",
    "plt.ylabel(\"Number (in thousands)\")\n",
    "plt.show()"
   ]
  }
 ],
 "metadata": {
  "kernelspec": {
   "display_name": "Python 3",
   "language": "python",
   "name": "python3"
  },
  "language_info": {
   "codemirror_mode": {
    "name": "ipython",
    "version": 3
   },
   "file_extension": ".py",
   "mimetype": "text/x-python",
   "name": "python",
   "nbconvert_exporter": "python",
   "pygments_lexer": "ipython3",
   "version": "3.6.1"
  }
 },
 "nbformat": 4,
 "nbformat_minor": 2
}
